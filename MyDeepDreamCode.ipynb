{
 "cells": [
  {
   "cell_type": "markdown",
   "metadata": {},
   "source": [
    "# DeepDream implementation Tutorial"
   ]
  },
  {
   "cell_type": "markdown",
   "metadata": {},
   "source": [
    "#### Our Changes\n",
    "1. The calculation for gradient is moved out from the optimize_function and is called only once before processing any image. This helps in saving RAM and gives faster computations.\n",
    "2. The various values for blur can be used to check out how the variations occur in the final image. The different values of blur are commented out in recursive_optimize function. It works well when the blur is 0.5. Other values (.25, 1.0) are in commented state and can be uncommented to compare the outputs.\n",
    "3. Each of the images - downscaled, upscaled, before and after running deepdream algorithm will be saved under images folder - for now the code is commented to save images. The users can uncomment the lines in optimize_image() and recursive_optimize() function to download all intermediate outputs, upscaled and downscaled images. If recursive function is executed, then all the intermediate images are saved with iteration number appended at the end.\n",
    "4. In order to test images for different layers, stepsize, rescale factor, number of iterations and number of repeats, the user can use the HTML form to vary the values, select a file (which is already present in the /images folder from where this notebook is running) and set these parameters. The fucntion - process_inputs() can be then executed to check the different variations. All the output images are stored in /images folder.\n",
    "5. The gradient is usually added in the image to produce smooth patterns. For analysis purpose, we subtracted the gradient from the image and then plotted these images which shows that patterns could not be produced if the gradient is subtracted. The code for subtracting gradient is commented out in optimize_function, this can be uncommented and can be tested for images."
   ]
  },
  {
   "cell_type": "markdown",
   "metadata": {},
   "source": [
    "#### Introduction\n",
    "\n",
    "DeepDream is a computer vision program created by Google which uses a Convolutional Neural Network to find and enhance patterns in images which is basically creating dreamlike hallucinogenic appearance.\n",
    "\n",
    "For showing the implementation of DeepDream, we will be using the Inception Model (deep convolutional network) and TensorFlow. The Inception Model has many layers and TensorFlow is used in order to generate a gradient"
   ]
  },
  {
   "cell_type": "code",
   "execution_count": null,
   "metadata": {
    "collapsed": true
   },
   "outputs": [],
   "source": [
    "from IPython.display import Image, display"
   ]
  },
  {
   "cell_type": "markdown",
   "metadata": {},
   "source": [
    "#### Optimize Image Function\n",
    "\n",
    "This is the main function of the algorithm. The function takes input the layer-tensor (0-11), the image to be processed, the number of iterations, step size, tile size and show_gradient( to show the intermediate graphs). The function first obtains the gradient for the tensor layer which is basically first squares the tensor, then calculates the reduce_mean and then finds the gradient of this mean on the default graph. Once we obtain the gradient, we then iterate (the number of optimization we want to run) to blend the image with the patterns. The value of gradient is calculated to understand how we can change the image so as to maximize the mean of the given layer-tensor. The gradient is blurred in order to enhance the patterns and obtain a more smooth image. Finally the image is updated with the calculated gradient and this process is repeated for the number of iterations (by default it is 10)."
   ]
  },
  {
   "cell_type": "markdown",
   "metadata": {},
   "source": [
    "#### Recursive Optimization\n",
    "\n",
    "Since the Inception Model was trained for a very low resolution images (200-300 pixels) in order to get proper results, the input image is downscaled and deepdream is run. But with downscaling the image, the results of the algorithm are not good, so the process of downscaling the image and running deep dream is done recursively to obtain proper patterns in the output image. Thus first the image is downscaled as per the num of repeats, now each of the downscaled image is passed to the optimize_image function along with adding it with the upscaled image. Thus we finally get the same size image as the original with enhanced patterns."
   ]
  },
  {
   "cell_type": "code",
   "execution_count": null,
   "metadata": {
    "collapsed": true
   },
   "outputs": [],
   "source": [
    "# Imports\n",
    "get_ipython().magic('matplotlib inline') #2Dplotting lobrary which produces publication quality figures\n",
    "import matplotlib.pyplot as plt\n",
    "import tensorflow as tf\n",
    "import numpy as np    #for scientific computing in python\n",
    "import random\n",
    "import math\n",
    "\n",
    "# Image manipulation.\n",
    "import PIL.Image\n",
    "from scipy.ndimage.filters import gaussian_filter\n",
    "\n",
    "from random import randrange"
   ]
  },
  {
   "cell_type": "markdown",
   "metadata": {},
   "source": [
    "#####  Inception Model\n",
    "The inception model used for this implementation is inception5h because this model works with any image size and the output is more beautiful as compared to Inception v3."
   ]
  },
  {
   "cell_type": "code",
   "execution_count": null,
   "metadata": {
    "collapsed": true
   },
   "outputs": [],
   "source": [
    "import inception5h"
   ]
  },
  {
   "cell_type": "markdown",
   "metadata": {},
   "source": [
    "Download the data for Inception Model (if it doesn't exists)"
   ]
  },
  {
   "cell_type": "code",
   "execution_count": null,
   "metadata": {
    "collapsed": false
   },
   "outputs": [],
   "source": [
    "inception5h.maybe_download()"
   ]
  },
  {
   "cell_type": "markdown",
   "metadata": {},
   "source": [
    "Load the Inception Model"
   ]
  },
  {
   "cell_type": "code",
   "execution_count": null,
   "metadata": {
    "collapsed": true
   },
   "outputs": [],
   "source": [
    "model = inception5h.Inception5h()"
   ]
  },
  {
   "cell_type": "markdown",
   "metadata": {},
   "source": [
    "Layers in Inception Model used for this implementation : 12"
   ]
  },
  {
   "cell_type": "code",
   "execution_count": null,
   "metadata": {
    "collapsed": false
   },
   "outputs": [],
   "source": [
    "len(model.layer_tensors)\n",
    "\n",
    "# printing the first model. Shows: ************************************************************** \n",
    "model.layer_tensors[0]"
   ]
  },
  {
   "cell_type": "markdown",
   "metadata": {},
   "source": [
    "##### This function loads an image and return its numpy array of floating-points"
   ]
  },
  {
   "cell_type": "code",
   "execution_count": null,
   "metadata": {
    "collapsed": true
   },
   "outputs": [],
   "source": [
    "def load_image(imageFileName):\n",
    "    image = PIL.Image.open(imageFileName)\n",
    "\n",
    "    return np.float32(image)"
   ]
  },
  {
   "cell_type": "code",
   "execution_count": null,
   "metadata": {
    "collapsed": false
   },
   "outputs": [],
   "source": [
    "img = load_image('images/elon_musk_100x100.jpg')\n",
    "# print(img)"
   ]
  },
  {
   "cell_type": "markdown",
   "metadata": {},
   "source": [
    "##### Save an image as a jpeg-file. The image is given as a numpy array with pixel-values between 0 and 255."
   ]
  },
  {
   "cell_type": "code",
   "execution_count": null,
   "metadata": {
    "collapsed": true
   },
   "outputs": [],
   "source": [
    "def save_image(image, filename):\n",
    "    # Ensure the pixel-values are between 0 and 255.\n",
    "    image = np.clip(image, 0.0, 255.0)\n",
    "    \n",
    "    # Convert to bytes.\n",
    "    image = image.astype(np.uint8)\n",
    "    \n",
    "    # Write the image-file in jpeg-format.\n",
    "    with open(filename, 'wb') as file:\n",
    "        PIL.Image.fromarray(image).save(file, 'jpeg')"
   ]
  },
  {
   "cell_type": "markdown",
   "metadata": {},
   "source": [
    "Plot the image using the PIL since matplotlib gives low resolution images."
   ]
  },
  {
   "cell_type": "code",
   "execution_count": null,
   "metadata": {
    "collapsed": true
   },
   "outputs": [],
   "source": [
    "def plot_image(image):\n",
    "    # Assume the pixel-values are scaled between 0 and 255.\n",
    "    \n",
    "    if False:\n",
    "        # Convert the pixel-values to the range between 0.0 and 1.0\n",
    "        image = np.clip(image/255.0, 0.0, 1.0)\n",
    "        \n",
    "        # Plot using matplotlib.\n",
    "        plt.imshow(image, interpolation='lanczos')\n",
    "        plt.show()\n",
    "    else:\n",
    "        # Ensure the pixel-values are between 0 and 255.\n",
    "        image = np.clip(image, 0.0, 255.0)\n",
    "        \n",
    "        # Convert pixels to bytes.\n",
    "        image = image.astype(np.uint8)\n",
    "\n",
    "        # Convert to a PIL-image and display it.\n",
    "        display(PIL.Image.fromarray(image))"
   ]
  },
  {
   "cell_type": "markdown",
   "metadata": {},
   "source": [
    "##### Normalize an image so its values are between 0.0 and 1.0. This is useful for plotting the gradient."
   ]
  },
  {
   "cell_type": "code",
   "execution_count": null,
   "metadata": {
    "collapsed": true
   },
   "outputs": [],
   "source": [
    "def normalize_image(x):\n",
    "    # Get the min and max values for all pixels in the input.\n",
    "    x_min = x.min()\n",
    "    x_max = x.max()\n",
    "\n",
    "    # Normalize so all values are between 0.0 and 1.0\n",
    "    x_norm = (x - x_min) / (x_max - x_min)\n",
    "    \n",
    "    return x_norm"
   ]
  },
  {
   "cell_type": "markdown",
   "metadata": {},
   "source": [
    "##### Plot the gradient after normalizing the image"
   ]
  },
  {
   "cell_type": "code",
   "execution_count": null,
   "metadata": {
    "collapsed": true
   },
   "outputs": [],
   "source": [
    "def plot_gradient(gradient):\n",
    "    # Normalize the gradient so it is between 0.0 and 1.0\n",
    "    gradient_normalized = normalize_image(gradient)\n",
    "    \n",
    "    # Plot the normalized gradient.\n",
    "    plt.imshow(gradient_normalized, interpolation='bilinear')\n",
    "    plt.show()"
   ]
  },
  {
   "cell_type": "markdown",
   "metadata": {},
   "source": [
    "Resize the image : this function resizes the image to the desired pixels or to the rescaling factor."
   ]
  },
  {
   "cell_type": "code",
   "execution_count": null,
   "metadata": {
    "collapsed": false
   },
   "outputs": [],
   "source": [
    "def resize_image(image, size=None, factor=None):\n",
    "    # If a rescaling-factor is provided then use it.\n",
    "    if factor is not None:\n",
    "        # Scale the numpy array's shape for height and width.\n",
    "        size = np.array(image.shape[0:2]) * factor\n",
    "        \n",
    "        # The size is floating-point because it was scaled.\n",
    "        # PIL requires the size to be integers.\n",
    "        size = size.astype(int)\n",
    "    else:\n",
    "        # Ensure the size has length 2.\n",
    "        size = size[0:2]\n",
    "    \n",
    "    # The height and width is reversed in numpy vs. PIL.\n",
    "    size = tuple(reversed(size))\n",
    "\n",
    "    # Ensure the pixel-values are between 0 and 255.\n",
    "    img = np.clip(image, 0.0, 255.0)\n",
    "    \n",
    "    # Convert the pixels to 8-bit bytes.\n",
    "    img = img.astype(np.uint8)\n",
    "    \n",
    "    # Create PIL-object from numpy array.\n",
    "    img = PIL.Image.fromarray(img)\n",
    "    \n",
    "    # Resize the image.\n",
    "    img_resized = img.resize(size, PIL.Image.LANCZOS)\n",
    "    \n",
    "    \n",
    "    # Convert 8-bit pixel values back to floating-point.\n",
    "    img_resized = np.float32(img_resized)\n",
    "    \n",
    "    # print(img_resized)\n",
    "\n",
    "    return img_resized"
   ]
  },
  {
   "cell_type": "markdown",
   "metadata": {},
   "source": [
    "The Inception Model can accept image of any size, but this may require more RAM for processing. In order to get the results from the DeepDream algorithm, if we downscale the image directly to 200*200 pixels (on which the model is actually trained) this will result in an image in which the patterns may not be clearly visible. Thus this algorithm splits the image into smaller tiles and then use TensorFlow to calculate gradient for each of the tiles.\n",
    "\n",
    "Below function is used to determine the appropritate tile size. The desired tile-size default value = 400*400 pixels and the actual tile-size depends on the image-dimensions."
   ]
  },
  {
   "cell_type": "code",
   "execution_count": null,
   "metadata": {
    "collapsed": true
   },
   "outputs": [],
   "source": [
    "def get_tile_size(num_pixels, tile_size=400):\n",
    "    \"\"\"\n",
    "    num_pixels is the number of pixels in a dimension of the image.\n",
    "    tile_size is the desired tile-size.\n",
    "    \"\"\"\n",
    "\n",
    "    # How many times can we repeat a tile of the desired size.\n",
    "    num_tiles = int(round(num_pixels / tile_size))\n",
    "    \n",
    "    # Ensure that there is at least 1 tile.\n",
    "    num_tiles = max(1, num_tiles)\n",
    "    \n",
    "    # The actual tile-size.\n",
    "    actual_tile_size = math.ceil(num_pixels / num_tiles)\n",
    "    \n",
    "    return actual_tile_size"
   ]
  },
  {
   "cell_type": "markdown",
   "metadata": {},
   "source": [
    "This function calculates the gradient for an input image. The input image is split into tiles and the gradient is calculated for each of the tile. The tiles are chosen randomly - this is to avoid visible lines in the final output image from DeepDream."
   ]
  },
  {
   "cell_type": "code",
   "execution_count": null,
   "metadata": {
    "collapsed": true
   },
   "outputs": [],
   "source": [
    "def tiled_gradient(gradient, image, tile_size=400):\n",
    "    # Allocate an array for the gradient of the entire image.\n",
    "    grad = np.zeros_like(image)\n",
    "\n",
    "    # Number of pixels for the x- and y-axes.\n",
    "    x_max, y_max, _ = image.shape\n",
    "\n",
    "    # Tile-size for the x-axis.\n",
    "    x_tile_size = get_tile_size(num_pixels=x_max, tile_size=tile_size)\n",
    "    # 1/4 of the tile-size.\n",
    "    x_tile_size4 = x_tile_size // 4\n",
    "\n",
    "    # Tile-size for the y-axis.\n",
    "    y_tile_size = get_tile_size(num_pixels=y_max, tile_size=tile_size)\n",
    "    # 1/4 of the tile-size\n",
    "    y_tile_size4 = y_tile_size // 4\n",
    "\n",
    "    # Random start-position for the tiles on the x-axis.\n",
    "    # The random value is between -3/4 and -1/4 of the tile-size.\n",
    "    # This is so the border-tiles are at least 1/4 of the tile-size,\n",
    "    # otherwise the tiles may be too small which creates noisy gradients.\n",
    "    x_start = random.randint(-3*x_tile_size4, -x_tile_size4)\n",
    "\n",
    "    while x_start < x_max:\n",
    "        # End-position for the current tile.\n",
    "        x_end = x_start + x_tile_size\n",
    "        \n",
    "        # Ensure the tile's start- and end-positions are valid.\n",
    "        x_start_lim = max(x_start, 0)\n",
    "        x_end_lim = min(x_end, x_max)\n",
    "\n",
    "        # Random start-position for the tiles on the y-axis.\n",
    "        # The random value is between -3/4 and -1/4 of the tile-size.\n",
    "        y_start = random.randint(-3*y_tile_size4, -y_tile_size4)\n",
    "\n",
    "        while y_start < y_max:\n",
    "            # End-position for the current tile.\n",
    "            y_end = y_start + y_tile_size\n",
    "\n",
    "            # Ensure the tile's start- and end-positions are valid.\n",
    "            y_start_lim = max(y_start, 0)\n",
    "            y_end_lim = min(y_end, y_max)\n",
    "\n",
    "            # Get the image-tile.\n",
    "            img_tile = image[x_start_lim:x_end_lim,\n",
    "                             y_start_lim:y_end_lim, :]\n",
    "\n",
    "            # Create a feed-dict with the image-tile.\n",
    "            feed_dict = model.create_feed_dict(image=img_tile)\n",
    "\n",
    "            # Use TensorFlow to calculate the gradient-value.\n",
    "            g = session.run(gradient, feed_dict=feed_dict)\n",
    "\n",
    "            # Normalize the gradient for the tile. This is\n",
    "            # necessary because the tiles may have very different\n",
    "            # values. Normalizing gives a more coherent gradient.\n",
    "            g /= (np.std(g) + 1e-8)\n",
    "\n",
    "            # Store the tile's gradient at the appropriate location.\n",
    "            grad[x_start_lim:x_end_lim,\n",
    "                 y_start_lim:y_end_lim, :] = g\n",
    "            \n",
    "            # Advance the start-position for the y-axis.\n",
    "            y_start = y_end\n",
    "\n",
    "        # Advance the start-position for the x-axis.\n",
    "        x_start = x_end\n",
    "\n",
    "    return grad"
   ]
  },
  {
   "cell_type": "markdown",
   "metadata": {},
   "source": [
    "In order to process the images fast and preventing unnecessary memory usage, the get_gradient function in inception5h is called just once before we process any image and obtain the gradient for a particular tensor layer."
   ]
  },
  {
   "cell_type": "code",
   "execution_count": null,
   "metadata": {
    "collapsed": false
   },
   "outputs": [],
   "source": [
    "def call_get_gradient(layer_tensor):\n",
    "    gradient = model.get_gradient(layer_tensor)\n",
    "    return gradient"
   ]
  },
  {
   "cell_type": "markdown",
   "metadata": {},
   "source": [
    "##### Optimize Image"
   ]
  },
  {
   "cell_type": "markdown",
   "metadata": {},
   "source": [
    "This is an Optimization that runs in a loop which forms a main part of DeepDream algorithm. It calculates the gradient of the given layer of Inception Model with respect to the input image which is then added to the input image. This increases the mean value of the layer-tensor and this process is repeated a number of times which helps in amplifying the patterns which the Inception Model sees in the input image."
   ]
  },
  {
   "cell_type": "code",
   "execution_count": null,
   "metadata": {
    "collapsed": false
   },
   "outputs": [],
   "source": [
    "def optimize_image(layer_tensor, image, gradient, \n",
    "                   num_iterations=10, step_size=3.0, tile_size=400,\n",
    "                   show_gradient=True, filename='test'):\n",
    "    \"\"\"\n",
    "    Use gradient ascent to optimize an image so it maximizes the\n",
    "    mean value of the given layer_tensor.\n",
    "    \n",
    "    Parameters:\n",
    "    layer_tensor: Reference to a tensor that will be maximized.\n",
    "    image: Input image used as the starting point.\n",
    "    num_iterations: Number of optimization iterations to perform.\n",
    "    step_size: Scale for each step of the gradient ascent.\n",
    "    tile_size: Size of the tiles when calculating the gradient.\n",
    "    show_gradient: Plot the gradient in each iteration.\n",
    "    \"\"\"\n",
    "\n",
    "    # Copy the image so we don't overwrite the original image.\n",
    "    img = image.copy()\n",
    "    \n",
    "    print(\"Image before:\")\n",
    "    plot_image(img)\n",
    "    \n",
    "    # save the file showing the before image\n",
    "    filename1 = 'images/deepdream_BeforeO_'+filename+'.jpg'\n",
    "    \n",
    "    # kruti sharme - uncomment the below line to save intermediate results\n",
    "    #save_image(img,filename=filename1)\n",
    "\n",
    "    print(\"Processing image: \", end=\"\")\n",
    "\n",
    "    #kruti sharma - the below function is called outside optimize function now. This is called only once for each tensor layer.\n",
    "    # Use TensorFlow to get the mathematical function for the\n",
    "    # gradient of the given layer-tensor with regard to the\n",
    "    # input image. This may cause TensorFlow to add the same\n",
    "    # math-expressions to the graph each time this function is called.\n",
    "    \n",
    "    #gradient = model.get_gradient(layer_tensor)\n",
    "    \n",
    "    \n",
    "    for i in range(num_iterations):\n",
    "        # Calculate the value of the gradient.\n",
    "        # This tells us how to change the image so as to\n",
    "        # maximize the mean of the given layer-tensor.\n",
    "        grad = tiled_gradient(gradient=gradient, image=img)\n",
    "        \n",
    "        # Blur the gradient with different amounts and add\n",
    "        # them together. The blur amount is also increased\n",
    "        # during the optimization. This was found to give\n",
    "        # nice, smooth images. You can try and change the formulas.\n",
    "        # The blur-amount is called sigma (0=no blur, 1=low blur, etc.)\n",
    "        # We could call gaussian_filter(grad, sigma=(sigma, sigma, 0.0))\n",
    "        # which would not blur the colour-channel. This tends to\n",
    "        # give psychadelic / pastel colours in the resulting images.\n",
    "        # When the colour-channel is also blurred the colours of the\n",
    "        # input image are mostly retained in the output image.\n",
    "        sigma = (i * 4.0) / num_iterations + 0.5\n",
    "        grad_smooth1 = gaussian_filter(grad, sigma=sigma)\n",
    "        grad_smooth2 = gaussian_filter(grad, sigma=sigma*2)\n",
    "        grad_smooth3 = gaussian_filter(grad, sigma=sigma*0.5)\n",
    "        grad = (grad_smooth1 + grad_smooth2 + grad_smooth3)\n",
    "\n",
    "        # Scale the step-size according to the gradient-values.\n",
    "        # This may not be necessary because the tiled-gradient\n",
    "        # is already normalized.\n",
    "        step_size_scaled = step_size / (np.std(grad) + 1e-8)\n",
    "\n",
    "        # Update the image by following the gradient.\n",
    "        img += grad * step_size_scaled\n",
    "        \n",
    "        # kruti sharma - subtracting the gradient instead of adding that to the image.\n",
    "        #img -= grad * step_size_scaled\n",
    "\n",
    "        if show_gradient:\n",
    "            # Print statistics for the gradient.\n",
    "            msg = \"Gradient min: {0:>9.6f}, max: {1:>9.6f}, stepsize: {2:>9.2f}\"\n",
    "            print(msg.format(grad.min(), grad.max(), step_size_scaled))\n",
    "\n",
    "            # Plot the gradient.\n",
    "            plot_gradient(grad)\n",
    "        else:\n",
    "            # Otherwise show a little progress-indicator.\n",
    "            print(\". \", end=\"\")\n",
    "\n",
    "    print()\n",
    "    print(\"Image after:\")\n",
    "    plot_image(img)\n",
    "    filename1 = 'images/deepdream_AfterO_'+filename+'.jpg'\n",
    "    \n",
    "    # kruti sharme - uncomment the below line to save intermediate results\n",
    "    #save_image(img,filename=filename1)\n",
    "    \n",
    "    return img"
   ]
  },
  {
   "cell_type": "markdown",
   "metadata": {},
   "source": [
    "##### Recursive Image Optimization"
   ]
  },
  {
   "cell_type": "markdown",
   "metadata": {},
   "source": [
    "In order to downscale the input image, the below helper function downscales the input image which helps to speed up the processing of DeepDream algorithm and also produces proper patterns from the Inception Model. This downscales the image several times (depending on the num_repeats param) and runs each of the downscaled version through optimize_image() function (as defined above)."
   ]
  },
  {
   "cell_type": "code",
   "execution_count": null,
   "metadata": {
    "collapsed": false
   },
   "outputs": [],
   "source": [
    "def recursive_optimize(layer_tensor, image, gradient, \n",
    "                       num_repeats=4, rescale_factor=0.7, blend=0.2,\n",
    "                       num_iterations=10, step_size=3.0,\n",
    "                       tile_size=400, filename='test'):\n",
    "    \"\"\"\n",
    "    Recursively blur and downscale the input image.\n",
    "    Each downscaled image is run through the optimize_image()\n",
    "    function to amplify the patterns that the Inception model sees.\n",
    "\n",
    "    Parameters:\n",
    "    image: Input image used as the starting point.\n",
    "    rescale_factor: Downscaling factor for the image.\n",
    "    num_repeats: Number of times to downscale the image.\n",
    "    blend: Factor for blending the original and processed images.\n",
    "\n",
    "    Parameters passed to optimize_image():\n",
    "    layer_tensor: Reference to a tensor that will be maximized.\n",
    "    num_iterations: Number of optimization iterations to perform.\n",
    "    step_size: Scale for each step of the gradient ascent.\n",
    "    tile_size: Size of the tiles when calculating the gradient.\n",
    "    \"\"\"\n",
    "\n",
    "    # Do a recursive step?\n",
    "    if num_repeats>0:\n",
    "        # Blur the input image to prevent artifacts when downscaling.\n",
    "        # The blur amount is controlled by sigma. Note that the\n",
    "        # colour-channel is not blurred as it would make the image gray.\n",
    "        sigma = 0.5\n",
    "        \n",
    "        # kruti sharma : changing the blur value to check how the downscaling is impacted\n",
    "        #sigma = 1.0\n",
    "        \n",
    "        # kruti sharma : changing the blur value to check how the downscaling is impacted\n",
    "        #sigma = 0.25\n",
    "        \n",
    "        img_blur = gaussian_filter(image, sigma=(sigma, sigma, 0.0))\n",
    "\n",
    "        # Downscale the image.\n",
    "        img_downscaled = resize_image(image=img_blur,\n",
    "                                      factor=rescale_factor)\n",
    "        print('!!!!!!!!!!!!!!!!!!!!!!!!!!!!!!!Downscale image in Recursive Level: ', num_repeats)\n",
    "        plot_image(img_downscaled)\n",
    "        \n",
    "        dfilename = 'images/downscale_'+filename+'_'+str(num_repeats)+'.jpg'\n",
    "        \n",
    "        # kruti sharma - uncomment the below line to save the downscaled file\n",
    "        #save_image(img_downscaled, filename=dfilename)\n",
    "        \n",
    "        # Recursive call to this function.\n",
    "        # Subtract one from num_repeats and use the downscaled image.\n",
    "        img_result = recursive_optimize(layer_tensor=layer_tensor,\n",
    "                                        image=img_downscaled, \n",
    "                                        gradient=gradient, \n",
    "                                        num_repeats=num_repeats-1,\n",
    "                                        rescale_factor=rescale_factor,\n",
    "                                        blend=blend,\n",
    "                                        num_iterations=num_iterations,\n",
    "                                        step_size=step_size,\n",
    "                                        tile_size=tile_size,\n",
    "                                        filename=filename)\n",
    "        \n",
    "        # Upscale the resulting image back to its original size.\n",
    "        img_upscaled = resize_image(image=img_result, size=image.shape)\n",
    "        print('*****************************Upscaled Image in Recursive Level: ', num_repeats)\n",
    "        plot_image(img_upscaled)\n",
    "        ufilename = 'images/upscale_'+filename+'_'+str(num_repeats)+'.jpg'\n",
    "        \n",
    "        # kruti sharma - uncomment the below line to save the downscaled file\n",
    "        #save_image(img_upscaled, filename=ufilename)\n",
    "\n",
    "        # Blend the original and processed images.\n",
    "        image = blend * image + (1.0 - blend) * img_upscaled\n",
    "        \n",
    "\n",
    "    print(\"Recursive level:\", num_repeats)\n",
    "\n",
    "    # Process the image using the DeepDream algorithm.\n",
    "    filename1 = filename+'_'+str(num_repeats)\n",
    "    img_result = optimize_image(layer_tensor=layer_tensor,\n",
    "                                image=image,\n",
    "                                gradient=gradient,\n",
    "                                num_iterations=num_iterations,\n",
    "                                step_size=step_size,\n",
    "                                tile_size=tile_size,\n",
    "                                filename=filename1)\n",
    "    \n",
    "    return img_result"
   ]
  },
  {
   "cell_type": "markdown",
   "metadata": {},
   "source": [
    "##### TensorFlow session to see all the outputs for the image."
   ]
  },
  {
   "cell_type": "code",
   "execution_count": null,
   "metadata": {
    "collapsed": true
   },
   "outputs": [],
   "source": [
    "session = tf.InteractiveSession(graph=model.graph)"
   ]
  },
  {
   "cell_type": "markdown",
   "metadata": {},
   "source": [
    "Test the algorithm for Willu Wonka Old image."
   ]
  },
  {
   "cell_type": "code",
   "execution_count": null,
   "metadata": {
    "collapsed": false
   },
   "outputs": [],
   "source": [
    "image = load_image('images/willy_wonka_old.jpg')\n",
    "filename = 'willy_wonka_old'\n",
    "plot_image(image)"
   ]
  },
  {
   "cell_type": "markdown",
   "metadata": {},
   "source": [
    "Now using the 3rd Layer (layer index = 2) of the Inception Model on the input image"
   ]
  },
  {
   "cell_type": "markdown",
   "metadata": {},
   "source": [
    "The layer_tensor will hold the inception model 3rd layer and shows that it has 192 channels"
   ]
  },
  {
   "cell_type": "code",
   "execution_count": null,
   "metadata": {
    "collapsed": false
   },
   "outputs": [],
   "source": [
    "layer_tensor = model.layer_tensors[2]\n",
    "layer_tensor"
   ]
  },
  {
   "cell_type": "markdown",
   "metadata": {},
   "source": [
    "Running the DeepDream Optimization algorithm with iterations as 10, step size as 6.0."
   ]
  },
  {
   "cell_type": "code",
   "execution_count": null,
   "metadata": {
    "collapsed": false
   },
   "outputs": [],
   "source": [
    "gradient = call_get_gradient(layer_tensor)\n",
    "img_result = optimize_image(layer_tensor, image, gradient, \n",
    "                            num_iterations=20, step_size=3.0, tile_size=400, \n",
    "                            show_gradient=False, filename=filename)\n"
   ]
  },
  {
   "cell_type": "code",
   "execution_count": null,
   "metadata": {
    "collapsed": false
   },
   "outputs": [],
   "source": [
    "def process_inputs():\n",
    "    \n",
    "    print('Tensor Layer to be Used: '+layer_tensor_ip)\n",
    "    new_layer_tensor_ip = model.layer_tensors[int(layer_tensor_ip)]\n",
    "    \n",
    "    print('*************************************************')\n",
    "    print('layer tensor actual value after input from user: ')\n",
    "    print(new_layer_tensor_ip)\n",
    "    \n",
    "    print('*************************************************')\n",
    "    \n",
    "    if image_ip == \"\":\n",
    "        image_value = 'willy_wonka_new.jpg'\n",
    "        \n",
    "    filename_ip = 'images/'+image_ip\n",
    "    new_image_ip = load_image(filename_ip)\n",
    "    print('New Input image from user')\n",
    "    print('*************************************************')\n",
    "    plot_image(new_image_ip)\n",
    "    print('*************************************************')\n",
    "    \n",
    "    print('Step Size: '+step_size_ip)\n",
    "    print('*************************************************')\n",
    "    \n",
    "    print('Rescale factor: '+rescale_factor_ip)\n",
    "    print('*************************************************')\n",
    "    \n",
    "    print('Number of Iterations: '+num_iterations_ip)\n",
    "    print('*************************************************')\n",
    "    \n",
    "    print('Number of Repeats: '+num_repeats_ip)\n",
    "    print('*************************************************')\n",
    "    \n",
    "    \n",
    "    print('*************** PROCESSING with Optimize Image **********************')\n",
    "    \n",
    "    parts = image_ip.split('.')   \n",
    "    inputImage = parts[0]\n",
    "    print('New input image: ',inputImage)\n",
    "    \n",
    "    # calling the gradient function outside the optimize_image() function - to reduce the memory consumption\n",
    "    gradient = call_get_gradient(new_layer_tensor_ip)\n",
    "    \n",
    "    img_result = optimize_image(new_layer_tensor_ip, new_image_ip, gradient, \n",
    "                                num_iterations=int(num_iterations_ip), step_size=float(step_size_ip), tile_size=400, \n",
    "                                show_gradient=True, filename=inputImage)\n",
    "    \n",
    "    \n",
    "    frac= str(rescale_factor_ip).split('.')\n",
    "    ss = str(step_size_ip).split('.')\n",
    "    filename_ip = 'images/deepdream_O'+parts[0]+'_'+layer_tensor_ip+'_'+ss[0]+'_0'+frac[1]+'.'+parts[1]\n",
    "    print('New Filename for Optimize: '+filename_ip)\n",
    "    \n",
    "    save_image(img_result, filename=filename_ip)\n",
    "    \n",
    "    print('*************** PROCESSING with Recursive Optimize Image **********************') \n",
    "    \n",
    "    img_result = recursive_optimize(new_layer_tensor_ip, new_image_ip, gradient, \n",
    "                                    num_repeats=int(num_repeats_ip), rescale_factor=float(rescale_factor_ip), blend=0.2,\n",
    "                       num_iterations=10, step_size=float(step_size_ip),\n",
    "                       tile_size=400, filename=inputImage)\n",
    "      \n",
    "    filename_ip = 'images/deepdream_R'+parts[0]+'_'+layer_tensor_ip+'_'+ss[0]+'_0'+frac[1]+'.'+parts[1]\n",
    "    print('New Filename for Recursive Optimize: '+filename_ip)\n",
    "    \n",
    "    save_image(img_result, filename=filename_ip)\n",
    "   "
   ]
  },
  {
   "cell_type": "code",
   "execution_count": null,
   "metadata": {
    "collapsed": false,
    "scrolled": true
   },
   "outputs": [],
   "source": [
    "from IPython.display import HTML\n",
    "\n",
    "input_form = \"\"\"\n",
    "<div style=\"background-color:gainsboro; border:solid black; width:800px; padding:20px;\">\n",
    "\n",
    "<B>Tensor Layer:</B>&nbsp;&nbsp;&nbsp;&nbsp;&nbsp;&nbsp; <input type=\"text\" id=\"layer_tensor\" value=\"3\"> Value between 0 - 11 <br> <br>\n",
    "\n",
    "<B>Step Size:</B>&nbsp;&nbsp;&nbsp;&nbsp;&nbsp;&nbsp;&nbsp;&nbsp;&nbsp;&nbsp;&nbsp;&nbsp; <input type=\"text\" id=\"step_size\" value=\"3.0\"> <br> <br>\n",
    "\n",
    "<B>Rescale Factor:</B>&nbsp;&nbsp;&nbsp; <input type=\"text\" id=\"rescale_factor\" value=\"0.7\"> <br> <br>\n",
    "\n",
    "<B>Iterations:</B>&nbsp;&nbsp;&nbsp;&nbsp;&nbsp;&nbsp;&nbsp;&nbsp;&nbsp;&nbsp;&nbsp;&nbsp; <input type=\"text\" id=\"num_iterations\" value=\"10\"> Value >= 10 <br> <br>\n",
    "\n",
    "<B>Repeats:</B>&nbsp;&nbsp;&nbsp;&nbsp;&nbsp;&nbsp;&nbsp;&nbsp;&nbsp;&nbsp;&nbsp;&nbsp;&nbsp;&nbsp <input type=\"text\" id=\"num_repeats\" value=\"4\"> Value >= 3 <br> <br>\n",
    "\n",
    "<input type=\"file\" id=\"file\"/><br><br>\n",
    "\n",
    "<button onclick=\"process_image()\">Set Parameters</button><br> <br>\n",
    "\n",
    "<span id=\"output\"></span>\n",
    "\n",
    "</div>\n",
    "\"\"\"\n",
    "\n",
    "javascript = \"\"\"\n",
    "<script type=\"text/Javascript\">\n",
    "var count=0;\n",
    "\n",
    "process_image();\n",
    "\n",
    "document.getElementById('file').onchange = function(event) {\n",
    "        var value = this.value;\n",
    "        console.log(event.target.files[0].name);\n",
    "        \n",
    "        var image_name = 'image_ip';\n",
    "        var image_value = event.target.files[0].name;\n",
    "        \n",
    "        count++;\n",
    "        var filecommand = image_name + \" = '\" + image_value + \"'\";\n",
    "        console.log(\"File Click: Executing Command: \" + filecommand);\n",
    "        \n",
    "        var kernel = IPython.notebook.kernel;\n",
    "        kernel.execute(filecommand);\n",
    "    };\n",
    "    \n",
    "    function process_image(){\n",
    "    \n",
    "        var layer_tensor_name = 'layer_tensor_ip';\n",
    "        var layer_tensor_value = document.getElementById('layer_tensor').value;\n",
    "        \n",
    "        var step_size_name = 'step_size_ip';\n",
    "        var step_size_value = document.getElementById('step_size').value;\n",
    "        \n",
    "        var rescale_factor_name = 'rescale_factor_ip';\n",
    "        var rescale_factor_value = document.getElementById('rescale_factor').value;\n",
    "        \n",
    "        var num_iterations_name = 'num_iterations_ip';\n",
    "        var num_iterations_value = document.getElementById('num_iterations').value;\n",
    "        \n",
    "        var num_repeats_name = 'num_repeats_ip';\n",
    "        var num_repeats_value = document.getElementById('num_repeats').value;\n",
    "        \n",
    "        var kernel = IPython.notebook.kernel;\n",
    "        var command = layer_tensor_name + \" = '\" + layer_tensor_value + \"'\";\n",
    "    \n",
    "        console.log(\"Executing Command: \" + command);\n",
    "        \n",
    "        kernel.execute(command);\n",
    "        \n",
    "        command = step_size_name + \" = '\" + step_size_value + \"'\";\n",
    "    \n",
    "        console.log(\"Executing Command: \" + command);\n",
    "        \n",
    "        kernel.execute(command);\n",
    "        \n",
    "        command = rescale_factor_name + \" = '\" + rescale_factor_value + \"'\";\n",
    "    \n",
    "        console.log(\"Executing Command: \" + command);\n",
    "        \n",
    "        kernel.execute(command);\n",
    "        \n",
    "        command = num_iterations_name + \" = '\" + num_iterations_value + \"'\";\n",
    "    \n",
    "        console.log(\"Executing Command: \" + command);\n",
    "        \n",
    "        kernel.execute(command);\n",
    "        \n",
    "        command = num_repeats_name + \" = '\" + num_repeats_value + \"'\";\n",
    "    \n",
    "        console.log(\"Executing Command: \" + command);\n",
    "        \n",
    "        kernel.execute(command);\n",
    "       \n",
    "       if(count == 0){\n",
    "            var image_name = 'image_ip';\n",
    "            var image_value = 'willy_wonka_new.jpg';\n",
    "        \n",
    "            var filecommand = image_name + \" = '\" + image_value + \"'\";\n",
    "            console.log(\"Executing Command: \" + filecommand);\n",
    "        \n",
    "            var kernel = IPython.notebook.kernel;\n",
    "            kernel.execute(filecommand);\n",
    "       }\n",
    "       \n",
    "      document.getElementById(\"output\").textContent=\"Change parameters and uncomment and execute process_inputs() to see output\";\n",
    "       \n",
    "    }\n",
    "    \n",
    "</script>\n",
    "\"\"\"\n",
    "        \n",
    "\n",
    "HTML(input_form + javascript)"
   ]
  },
  {
   "cell_type": "markdown",
   "metadata": {},
   "source": [
    "#### Uncomment the below line (process_inputs()) after executing the above form. This will run both Optimize and Recursive Optimize Function. The final output images are saved in /images folder. If all the intermediate images are required, then uncomment the save_image() lines in Optimize_Image and Recursive_Optimize() function."
   ]
  },
  {
   "cell_type": "code",
   "execution_count": null,
   "metadata": {
    "collapsed": false
   },
   "outputs": [],
   "source": [
    "#process_inputs()"
   ]
  },
  {
   "cell_type": "code",
   "execution_count": null,
   "metadata": {
    "collapsed": true
   },
   "outputs": [],
   "source": [
    "# The below code is commented. The users can uncomment once they have done the run through.\n",
    "\n",
    "# session.close()"
   ]
  },
  {
   "cell_type": "markdown",
   "metadata": {},
   "source": [
    "### Conclusion\n",
    "\n",
    "Running over different sets of parameters, we could see that a better result set is generated when we have a Rescale Factor between 0.4 - 0.8, number of iterations that we run Optimize function between 10-20 gives a smooth image with defined patterns. With less number of iterations, the patterns will not be visible. The recursive optimize function is run for atleast 4-5 times (parameter: number of repeats) and hence blends the image with more lines and patterns but if the number of repeats is increased too much, the output does not produces a smooth image.\n",
    "\n",
    "The gradient plays a major role. Adding up different gradient with varying blur helps in creating a smooth final image where the patterns and the original image blends well. For a very high blur the original image itself looses the lines and smootheness. Thus a blur of 0.5 is good.\n",
    "\n",
    "For analysing and understanding, each of the intermediate ouputs can be saved - the codes are in commented form to avoid unnecessary saving of multiple files. These lines can uncommented to save each of the intermediate outputs. The final images are saved in the local drive in /images folder.\n"
   ]
  },
  {
   "cell_type": "markdown",
   "metadata": {},
   "source": [
    "## License (MIT)\n",
    "\n",
    "Copyright (c) 2016 by [Magnus Erik Hvass Pedersen](http://www.hvass-labs.org/)\n",
    "\n",
    "Permission is hereby granted, free of charge, to any person obtaining a copy of this software and associated documentation files (the \"Software\"), to deal in the Software without restriction, including without limitation the rights to use, copy, modify, merge, publish, distribute, sublicense, and/or sell copies of the Software, and to permit persons to whom the Software is furnished to do so, subject to the following conditions:\n",
    "\n",
    "The above copyright notice and this permission notice shall be included in all copies or substantial portions of the Software.\n",
    "\n",
    "THE SOFTWARE IS PROVIDED \"AS IS\", WITHOUT WARRANTY OF ANY KIND, EXPRESS OR IMPLIED, INCLUDING BUT NOT LIMITED TO THE WARRANTIES OF MERCHANTABILITY, FITNESS FOR A PARTICULAR PURPOSE AND NONINFRINGEMENT. IN NO EVENT SHALL THE AUTHORS OR COPYRIGHT HOLDERS BE LIABLE FOR ANY CLAIM, DAMAGES OR OTHER LIABILITY, WHETHER IN AN ACTION OF CONTRACT, TORT OR OTHERWISE, ARISING FROM, OUT OF OR IN CONNECTION WITH THE SOFTWARE OR THE USE OR OTHER DEALINGS IN THE SOFTWARE."
   ]
  },
  {
   "cell_type": "code",
   "execution_count": null,
   "metadata": {
    "collapsed": true
   },
   "outputs": [],
   "source": []
  }
 ],
 "metadata": {
  "anaconda-cloud": {},
  "kernelspec": {
   "display_name": "Python [conda env:ksproject1]",
   "language": "python",
   "name": "conda-env-ksproject1-py"
  },
  "language_info": {
   "codemirror_mode": {
    "name": "ipython",
    "version": 3
   },
   "file_extension": ".py",
   "mimetype": "text/x-python",
   "name": "python",
   "nbconvert_exporter": "python",
   "pygments_lexer": "ipython3",
   "version": "3.5.2"
  }
 },
 "nbformat": 4,
 "nbformat_minor": 1
}
